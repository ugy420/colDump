{
 "cells": [
  {
   "cell_type": "markdown",
   "id": "e2676bde",
   "metadata": {},
   "source": [
    "# Assignment 1: Data Visualization and Description (MAT205)\n",
    "## Weightage: 5%\n",
    "## Due: 30th September, 2022\n",
    "## Directions:\n",
    "\n",
    "   - You are required to do all the exercises in this jupyter notebook and submit it through VLE Assignment submission section\n",
    "   - Plagiarism will be taken seriously, so make sure what you submit is your own work\n",
    "   - Late submissions will be penalized as per the Wheel of Academic Law (WAL)\n",
    "   - Under each Question, an empty cell is kept so that you can provide your answers. If you need more cells for your answers, just add few more cells below and continue.\n",
    "   - It is upto the individuals to change the colour of the plots for visual appeal, BUT do not overdo it.\n",
    "   - For each plot, give the appropriate title and label the axes accordingly. \n",
    "   - While submitting your work, rename the file as your stdnumber_class.ipynb, for example, 02210062_2IT.ipynb"
   ]
  },
  {
   "cell_type": "markdown",
   "id": "f530dcbb",
   "metadata": {},
   "source": [
    "### Insert your Student Number and Class below:"
   ]
  },
  {
   "cell_type": "markdown",
   "id": "0aa735b7",
   "metadata": {},
   "source": [
    "### Student Number: \n",
    "### Class:"
   ]
  },
  {
   "cell_type": "markdown",
   "id": "f461764f",
   "metadata": {},
   "source": [
    "## Introduction\n",
    "\n",
    "These exercises are based on the popular dataset, the Sinking of the Titanic in the year 1911. The first part of the exercises will be based on descriptive statistics and data visualization using the matplotlib library, whereas the second half will emphasize on the visualization using the seaborn library."
   ]
  },
  {
   "cell_type": "markdown",
   "id": "19227916",
   "metadata": {},
   "source": [
    "## Part I: Data Visualization using the Matplotlib library"
   ]
  },
  {
   "cell_type": "markdown",
   "id": "beaf40f0",
   "metadata": {},
   "source": [
    "#### Import the necessary libraries as follows:"
   ]
  },
  {
   "cell_type": "code",
   "execution_count": 5,
   "id": "9263df48",
   "metadata": {},
   "outputs": [],
   "source": [
    "import numpy as np\n",
    "import pandas as pd  # To import data as DataFrame. Pandas is built on NumPy so you need that as well.\n",
    "import matplotlib.pyplot as plt # For plotting; visualization in Part I.\n",
    "import seaborn as sns # For visualization in part II"
   ]
  },
  {
   "cell_type": "markdown",
   "id": "be3eeb0f",
   "metadata": {},
   "source": [
    "#### In this section you will be using only the plt function to obtain all the necessary plots. \n",
    "#### Use the plt.show() function to display your plots!"
   ]
  },
  {
   "cell_type": "markdown",
   "id": "5a51e01b",
   "metadata": {},
   "source": [
    "#### Now we need to load the titanic dataset, which comes with the seaborn library. However, you will need an INTERNET CONNECTION to load this dataset!!!"
   ]
  },
  {
   "cell_type": "code",
   "execution_count": 20,
   "id": "93478fd2",
   "metadata": {},
   "outputs": [
    {
     "data": {
      "text/plain": [
       "['anagrams',\n",
       " 'anscombe',\n",
       " 'attention',\n",
       " 'brain_networks',\n",
       " 'car_crashes',\n",
       " 'diamonds',\n",
       " 'dots',\n",
       " 'dowjones',\n",
       " 'exercise',\n",
       " 'flights',\n",
       " 'fmri',\n",
       " 'geyser',\n",
       " 'glue',\n",
       " 'healthexp',\n",
       " 'iris',\n",
       " 'mpg',\n",
       " 'penguins',\n",
       " 'planets',\n",
       " 'seaice',\n",
       " 'taxis',\n",
       " 'tips',\n",
       " 'titanic']"
      ]
     },
     "execution_count": 20,
     "metadata": {},
     "output_type": "execute_result"
    }
   ],
   "source": [
    "sns.get_dataset_names()   # Available datasets with Seaborn but we will only use the titanic dataset.\n",
    "# If you are interested, you may explore other datasets as well!"
   ]
  },
  {
   "cell_type": "code",
   "execution_count": 7,
   "id": "3f1e6831",
   "metadata": {},
   "outputs": [],
   "source": [
    "df = sns.load_dataset(\"titanic\") \n",
    "# Dataset is now assigned to a variable df. So we refer to the dataset as df from hereon!"
   ]
  },
  {
   "cell_type": "code",
   "execution_count": 9,
   "id": "dc01f02a",
   "metadata": {},
   "outputs": [
    {
     "data": {
      "text/html": [
       "<div>\n",
       "<style scoped>\n",
       "    .dataframe tbody tr th:only-of-type {\n",
       "        vertical-align: middle;\n",
       "    }\n",
       "\n",
       "    .dataframe tbody tr th {\n",
       "        vertical-align: top;\n",
       "    }\n",
       "\n",
       "    .dataframe thead th {\n",
       "        text-align: right;\n",
       "    }\n",
       "</style>\n",
       "<table border=\"1\" class=\"dataframe\">\n",
       "  <thead>\n",
       "    <tr style=\"text-align: right;\">\n",
       "      <th></th>\n",
       "      <th>survived</th>\n",
       "      <th>pclass</th>\n",
       "      <th>sex</th>\n",
       "      <th>age</th>\n",
       "      <th>sibsp</th>\n",
       "      <th>parch</th>\n",
       "      <th>fare</th>\n",
       "      <th>embarked</th>\n",
       "      <th>class</th>\n",
       "      <th>who</th>\n",
       "      <th>adult_male</th>\n",
       "      <th>deck</th>\n",
       "      <th>embark_town</th>\n",
       "      <th>alive</th>\n",
       "      <th>alone</th>\n",
       "    </tr>\n",
       "  </thead>\n",
       "  <tbody>\n",
       "    <tr>\n",
       "      <th>0</th>\n",
       "      <td>0</td>\n",
       "      <td>3</td>\n",
       "      <td>male</td>\n",
       "      <td>22.0</td>\n",
       "      <td>1</td>\n",
       "      <td>0</td>\n",
       "      <td>7.2500</td>\n",
       "      <td>S</td>\n",
       "      <td>Third</td>\n",
       "      <td>man</td>\n",
       "      <td>True</td>\n",
       "      <td>NaN</td>\n",
       "      <td>Southampton</td>\n",
       "      <td>no</td>\n",
       "      <td>False</td>\n",
       "    </tr>\n",
       "    <tr>\n",
       "      <th>1</th>\n",
       "      <td>1</td>\n",
       "      <td>1</td>\n",
       "      <td>female</td>\n",
       "      <td>38.0</td>\n",
       "      <td>1</td>\n",
       "      <td>0</td>\n",
       "      <td>71.2833</td>\n",
       "      <td>C</td>\n",
       "      <td>First</td>\n",
       "      <td>woman</td>\n",
       "      <td>False</td>\n",
       "      <td>C</td>\n",
       "      <td>Cherbourg</td>\n",
       "      <td>yes</td>\n",
       "      <td>False</td>\n",
       "    </tr>\n",
       "    <tr>\n",
       "      <th>2</th>\n",
       "      <td>1</td>\n",
       "      <td>3</td>\n",
       "      <td>female</td>\n",
       "      <td>26.0</td>\n",
       "      <td>0</td>\n",
       "      <td>0</td>\n",
       "      <td>7.9250</td>\n",
       "      <td>S</td>\n",
       "      <td>Third</td>\n",
       "      <td>woman</td>\n",
       "      <td>False</td>\n",
       "      <td>NaN</td>\n",
       "      <td>Southampton</td>\n",
       "      <td>yes</td>\n",
       "      <td>True</td>\n",
       "    </tr>\n",
       "    <tr>\n",
       "      <th>3</th>\n",
       "      <td>1</td>\n",
       "      <td>1</td>\n",
       "      <td>female</td>\n",
       "      <td>35.0</td>\n",
       "      <td>1</td>\n",
       "      <td>0</td>\n",
       "      <td>53.1000</td>\n",
       "      <td>S</td>\n",
       "      <td>First</td>\n",
       "      <td>woman</td>\n",
       "      <td>False</td>\n",
       "      <td>C</td>\n",
       "      <td>Southampton</td>\n",
       "      <td>yes</td>\n",
       "      <td>False</td>\n",
       "    </tr>\n",
       "    <tr>\n",
       "      <th>4</th>\n",
       "      <td>0</td>\n",
       "      <td>3</td>\n",
       "      <td>male</td>\n",
       "      <td>35.0</td>\n",
       "      <td>0</td>\n",
       "      <td>0</td>\n",
       "      <td>8.0500</td>\n",
       "      <td>S</td>\n",
       "      <td>Third</td>\n",
       "      <td>man</td>\n",
       "      <td>True</td>\n",
       "      <td>NaN</td>\n",
       "      <td>Southampton</td>\n",
       "      <td>no</td>\n",
       "      <td>True</td>\n",
       "    </tr>\n",
       "  </tbody>\n",
       "</table>\n",
       "</div>"
      ],
      "text/plain": [
       "   survived  pclass     sex   age  sibsp  parch     fare embarked  class  \\\n",
       "0         0       3    male  22.0      1      0   7.2500        S  Third   \n",
       "1         1       1  female  38.0      1      0  71.2833        C  First   \n",
       "2         1       3  female  26.0      0      0   7.9250        S  Third   \n",
       "3         1       1  female  35.0      1      0  53.1000        S  First   \n",
       "4         0       3    male  35.0      0      0   8.0500        S  Third   \n",
       "\n",
       "     who  adult_male deck  embark_town alive  alone  \n",
       "0    man        True  NaN  Southampton    no  False  \n",
       "1  woman       False    C    Cherbourg   yes  False  \n",
       "2  woman       False  NaN  Southampton   yes   True  \n",
       "3  woman       False    C  Southampton   yes  False  \n",
       "4    man        True  NaN  Southampton    no   True  "
      ]
     },
     "execution_count": 9,
     "metadata": {},
     "output_type": "execute_result"
    }
   ],
   "source": [
    "df.head()"
   ]
  },
  {
   "cell_type": "code",
   "execution_count": 10,
   "id": "2101818a",
   "metadata": {},
   "outputs": [
    {
     "data": {
      "text/plain": [
       "(891, 15)"
      ]
     },
     "execution_count": 10,
     "metadata": {},
     "output_type": "execute_result"
    }
   ],
   "source": [
    "df.shape"
   ]
  },
  {
   "cell_type": "markdown",
   "id": "27eecf13",
   "metadata": {},
   "source": [
    "- As we it is observed, this dataset has 891 rows and 15 columns. The datatypes are different: int64, float64, object, categorical, etc. To get the information on the datatypes and number of elements, you can use the info() function as follows:"
   ]
  },
  {
   "cell_type": "code",
   "execution_count": 11,
   "id": "7adaf61e",
   "metadata": {},
   "outputs": [
    {
     "name": "stdout",
     "output_type": "stream",
     "text": [
      "<class 'pandas.core.frame.DataFrame'>\n",
      "RangeIndex: 891 entries, 0 to 890\n",
      "Data columns (total 15 columns):\n",
      " #   Column       Non-Null Count  Dtype   \n",
      "---  ------       --------------  -----   \n",
      " 0   survived     891 non-null    int64   \n",
      " 1   pclass       891 non-null    int64   \n",
      " 2   sex          891 non-null    object  \n",
      " 3   age          714 non-null    float64 \n",
      " 4   sibsp        891 non-null    int64   \n",
      " 5   parch        891 non-null    int64   \n",
      " 6   fare         891 non-null    float64 \n",
      " 7   embarked     889 non-null    object  \n",
      " 8   class        891 non-null    category\n",
      " 9   who          891 non-null    object  \n",
      " 10  adult_male   891 non-null    bool    \n",
      " 11  deck         203 non-null    category\n",
      " 12  embark_town  889 non-null    object  \n",
      " 13  alive        891 non-null    object  \n",
      " 14  alone        891 non-null    bool    \n",
      "dtypes: bool(2), category(2), float64(2), int64(4), object(5)\n",
      "memory usage: 80.7+ KB\n"
     ]
    }
   ],
   "source": [
    "df.info()"
   ]
  },
  {
   "cell_type": "markdown",
   "id": "785e7754",
   "metadata": {},
   "source": [
    "## Questions:\n",
    "### 1. Obtain the descriptive statistics summary of the given dataframe using the function describe()."
   ]
  },
  {
   "cell_type": "markdown",
   "id": "3c3659fc",
   "metadata": {},
   "source": [
    "### Answer here"
   ]
  },
  {
   "cell_type": "code",
   "execution_count": null,
   "id": "173b99fc",
   "metadata": {},
   "outputs": [],
   "source": []
  },
  {
   "cell_type": "markdown",
   "id": "afb6660c",
   "metadata": {},
   "source": [
    "### 2. Plot Histograms of the passengers on board with their:"
   ]
  },
  {
   "cell_type": "markdown",
   "id": "6f47bea9",
   "metadata": {},
   "source": [
    "(i) Age \\\n",
    "(ii) Fare paid"
   ]
  },
  {
   "cell_type": "code",
   "execution_count": null,
   "id": "29e2bf4f",
   "metadata": {},
   "outputs": [],
   "source": []
  },
  {
   "cell_type": "markdown",
   "id": "478ebf5d",
   "metadata": {},
   "source": [
    "### 3. Plot the histogram of the Age of the passengers by their sex:"
   ]
  },
  {
   "cell_type": "markdown",
   "id": "c066d189",
   "metadata": {},
   "source": [
    "(i) Stacked histogram \\\n",
    "(ii) Side by side histogram"
   ]
  },
  {
   "cell_type": "code",
   "execution_count": null,
   "id": "a0d16257",
   "metadata": {},
   "outputs": [],
   "source": []
  },
  {
   "cell_type": "markdown",
   "id": "99f2cf0b",
   "metadata": {},
   "source": [
    "### 4. Display the Box and Whisker plot of the fare paid by the passengers."
   ]
  },
  {
   "cell_type": "code",
   "execution_count": null,
   "id": "ab7bcf72",
   "metadata": {},
   "outputs": [],
   "source": []
  },
  {
   "cell_type": "markdown",
   "id": "936d88bc",
   "metadata": {},
   "source": [
    "### 5. Obtain the Box and Whisker plot with age of the passengers.\n",
    "- Here, since the age column contains some non-numerical elements, we have to obtain the rows without NaN entries using the following line of code.\n",
    "- You will then use the new dataframe to obtain the desired plot."
   ]
  },
  {
   "cell_type": "code",
   "execution_count": 15,
   "id": "146dc20a",
   "metadata": {},
   "outputs": [],
   "source": [
    "df2 = df[df['age'].notna()]"
   ]
  },
  {
   "cell_type": "code",
   "execution_count": null,
   "id": "8e274eb1",
   "metadata": {},
   "outputs": [],
   "source": []
  },
  {
   "cell_type": "markdown",
   "id": "9af9c119",
   "metadata": {},
   "source": [
    "### 6. Show the Box and Whisker plot of the age of the passengers, side by side based on the condition, whether:\n",
    "(i) the passenger survived\\\n",
    "(ii) the passenger was alone \\\n",
    "(iii) the passenger was male or female"
   ]
  },
  {
   "cell_type": "code",
   "execution_count": null,
   "id": "9ea19da0",
   "metadata": {},
   "outputs": [],
   "source": []
  },
  {
   "cell_type": "markdown",
   "id": "28ae7d24",
   "metadata": {},
   "source": [
    "### 7. Show the Box and Whisker plot with the fare of the passengers, side by side based on the condition, whether:\n",
    "(i) the passenger survived\\\n",
    "(ii) the passenger was alone \\\n",
    "(iii) the passenger was male or female"
   ]
  },
  {
   "cell_type": "code",
   "execution_count": null,
   "id": "5996be9d",
   "metadata": {},
   "outputs": [],
   "source": []
  },
  {
   "cell_type": "markdown",
   "id": "77799630",
   "metadata": {},
   "source": [
    "### 8. Plot the line chart of the following:\n",
    "(i) age of the passengers\\\n",
    "(ii) fare paid by the passengers"
   ]
  },
  {
   "cell_type": "code",
   "execution_count": null,
   "id": "2e551d6f",
   "metadata": {},
   "outputs": [],
   "source": []
  },
  {
   "cell_type": "markdown",
   "id": "f703b3a7",
   "metadata": {},
   "source": [
    "### 9. Create a scatter plot presenting the relationship between the age and the fare paid by the passengers."
   ]
  },
  {
   "cell_type": "code",
   "execution_count": null,
   "id": "6550c5cf",
   "metadata": {},
   "outputs": [],
   "source": []
  },
  {
   "cell_type": "markdown",
   "id": "f85c9ab1",
   "metadata": {},
   "source": [
    "### 10. How many passengers survived the disaster?"
   ]
  },
  {
   "cell_type": "code",
   "execution_count": null,
   "id": "d92c8fb4",
   "metadata": {},
   "outputs": [],
   "source": []
  },
  {
   "cell_type": "markdown",
   "id": "82bb7766",
   "metadata": {},
   "source": [
    "### 11. How many passengers embarked from Southhampton?"
   ]
  },
  {
   "cell_type": "code",
   "execution_count": null,
   "id": "1058dc5c",
   "metadata": {},
   "outputs": [],
   "source": []
  },
  {
   "cell_type": "markdown",
   "id": "22f14e77",
   "metadata": {},
   "source": [
    "### 12. Create the Bar plot of the following:\n",
    "   #### (i) passengers with following age ranges:\n",
    "- less than 15\n",
    "- between 15 and 30\n",
    "- between 30 and 45\n",
    "- between 45 and 60\n",
    "- above 60 years of age\n",
    "\n",
    "#### (ii) passengers in the First, Second and Third class\n",
    "#### (iii) passengers who embarked from Southampton, Cherbourg, and Queenstown.\n",
    "  "
   ]
  },
  {
   "cell_type": "code",
   "execution_count": null,
   "id": "e68b22bd",
   "metadata": {},
   "outputs": [],
   "source": []
  },
  {
   "cell_type": "code",
   "execution_count": null,
   "id": "b7a93272",
   "metadata": {},
   "outputs": [],
   "source": []
  },
  {
   "cell_type": "code",
   "execution_count": null,
   "id": "8d8d5472",
   "metadata": {},
   "outputs": [],
   "source": []
  },
  {
   "cell_type": "code",
   "execution_count": null,
   "id": "97a71841",
   "metadata": {},
   "outputs": [],
   "source": []
  },
  {
   "cell_type": "markdown",
   "id": "2461a4a7",
   "metadata": {},
   "source": [
    "## Part II: Data Visualization using the Seaborn library"
   ]
  },
  {
   "cell_type": "markdown",
   "id": "812792d9",
   "metadata": {},
   "source": [
    "#### For plots in this part, you will use the sns function."
   ]
  },
  {
   "cell_type": "markdown",
   "id": "307e0bb1",
   "metadata": {},
   "source": [
    "### 1. Creat the Histogram on the following:\n",
    "#### (i) Age of the passengers\n",
    "#### (ii) Fare paid by the passengers"
   ]
  },
  {
   "cell_type": "code",
   "execution_count": null,
   "id": "b57bc4d9",
   "metadata": {},
   "outputs": [],
   "source": []
  },
  {
   "cell_type": "markdown",
   "id": "25ba592e",
   "metadata": {},
   "source": [
    "### 2. Create a stacked Histogram of the age of passengers differing by whether they survived or not? Is this a good way to present the information for comparison in the dataset?"
   ]
  },
  {
   "cell_type": "code",
   "execution_count": null,
   "id": "cbaf9a61",
   "metadata": {},
   "outputs": [],
   "source": []
  },
  {
   "cell_type": "markdown",
   "id": "c90f4eb2",
   "metadata": {},
   "source": [
    "### 3. Create the Histograms on the following. Histograms in each case must be side by side:\n",
    "### (i) Age of the passengers differing by \n",
    "   ##### (a) whether they survived or not\n",
    "   ##### (b) sex\n",
    "   ##### (c) whether they were alone\n",
    "### (ii) Fare paid by the passengers differing by \n",
    "   ##### (a) whether they survived or not\n",
    "   ##### (b) sex\n",
    "   ##### (c) whether they were alone"
   ]
  },
  {
   "cell_type": "code",
   "execution_count": null,
   "id": "173553ea",
   "metadata": {},
   "outputs": [],
   "source": []
  },
  {
   "cell_type": "markdown",
   "id": "f124dd04",
   "metadata": {},
   "source": [
    "### 4. Plot the Histogram of passengers who embarked from Cherbourg, differing by their survival status from the accident. Display the plots side by side."
   ]
  },
  {
   "cell_type": "code",
   "execution_count": null,
   "id": "21a00770",
   "metadata": {},
   "outputs": [],
   "source": []
  },
  {
   "cell_type": "markdown",
   "id": "4759aaf8",
   "metadata": {},
   "source": [
    "### 5. Plot the Kernel Density Estimate or the Ogive graph on the age of the passengers. "
   ]
  },
  {
   "cell_type": "code",
   "execution_count": null,
   "id": "6fc099dc",
   "metadata": {},
   "outputs": [],
   "source": []
  },
  {
   "cell_type": "markdown",
   "id": "9d189fe8",
   "metadata": {},
   "source": [
    "### 6. Plot the ogive curve on the age of the passengers differing by:\n",
    "#### (i) survival \n",
    "#### (ii) class\n",
    "#### (iii) whether they were alone or not"
   ]
  },
  {
   "cell_type": "code",
   "execution_count": null,
   "id": "56d02974",
   "metadata": {},
   "outputs": [],
   "source": []
  },
  {
   "cell_type": "markdown",
   "id": "87a72b54",
   "metadata": {},
   "source": [
    "### 6. Draw the cumulative frequency distribution curve of the passengers on the following:\n",
    "#### (i) Age\n",
    "#### (ii) Fare "
   ]
  },
  {
   "cell_type": "code",
   "execution_count": null,
   "id": "a76b0dab",
   "metadata": {},
   "outputs": [],
   "source": []
  },
  {
   "cell_type": "markdown",
   "id": "c3627c77",
   "metadata": {},
   "source": [
    "### 7. Plot the Ogive graph on top of the histogram on the age of the passengers."
   ]
  },
  {
   "cell_type": "code",
   "execution_count": null,
   "id": "d16defc5",
   "metadata": {},
   "outputs": [],
   "source": []
  },
  {
   "cell_type": "markdown",
   "id": "44e55b40",
   "metadata": {},
   "source": [
    "### 8. Make the Box and Whisker plots on the following:\n",
    "#### (i) Age of the passengers differing by their survival\n",
    "#### (ii) Age of the passengers differing by their class\n",
    "#### (ii) Fare paid by the passengers differing by their survival"
   ]
  },
  {
   "cell_type": "code",
   "execution_count": null,
   "id": "5ce1da3e",
   "metadata": {},
   "outputs": [],
   "source": []
  },
  {
   "cell_type": "markdown",
   "id": "121e0249",
   "metadata": {},
   "source": [
    "### 9. Create a scatter plot presenting the relationship between the age and fare paid by the passengers."
   ]
  },
  {
   "cell_type": "code",
   "execution_count": null,
   "id": "4d9abc02",
   "metadata": {},
   "outputs": [],
   "source": []
  },
  {
   "cell_type": "markdown",
   "id": "a2ec945e",
   "metadata": {},
   "source": [
    "### 10. Create a scatter plot of the Fare paid and the Age. Differ the plot colour by \n",
    "#### (i) gender, \n",
    "#### (ii) survival, and \n",
    "#### (iii) whether they were alone or not\n",
    "#### (iv) embarking place"
   ]
  },
  {
   "cell_type": "code",
   "execution_count": null,
   "id": "1fbcc86c",
   "metadata": {},
   "outputs": [],
   "source": []
  },
  {
   "cell_type": "markdown",
   "id": "3f7d2748",
   "metadata": {},
   "source": [
    "## BONUS!!!\n",
    "### Create a few questions on your own on the given dataset and answer it."
   ]
  },
  {
   "cell_type": "code",
   "execution_count": null,
   "id": "cbf4149f",
   "metadata": {},
   "outputs": [],
   "source": []
  },
  {
   "cell_type": "code",
   "execution_count": null,
   "id": "17427101",
   "metadata": {},
   "outputs": [],
   "source": []
  }
 ],
 "metadata": {
  "kernelspec": {
   "display_name": "Python 3 (ipykernel)",
   "language": "python",
   "name": "python3"
  },
  "language_info": {
   "codemirror_mode": {
    "name": "ipython",
    "version": 3
   },
   "file_extension": ".py",
   "mimetype": "text/x-python",
   "name": "python",
   "nbconvert_exporter": "python",
   "pygments_lexer": "ipython3",
   "version": "3.9.12"
  }
 },
 "nbformat": 4,
 "nbformat_minor": 5
}
